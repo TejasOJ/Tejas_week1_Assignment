{
 "cells": [
  {
   "cell_type": "code",
   "execution_count": 3,
   "id": "10c9af06",
   "metadata": {},
   "outputs": [
    {
     "name": "stdout",
     "output_type": "stream",
     "text": [
      "Number_1: 21\n",
      "Number_2: 21\n",
      "Addition: 42.0\n",
      "Subtraction: 0.0\n",
      "Multiplication: 441.0\n",
      "Division: 1.0\n"
     ]
    }
   ],
   "source": [
    "# Write a Python program to perform basic arithmetic operations (addition, subtraction, multiplication, division)\n",
    "def add(a, b):\n",
    "    return a + b\n",
    "\n",
    "def sub(a, b):\n",
    "    return a - b\n",
    "\n",
    "def mul(a, b):\n",
    "    return a * b\n",
    "\n",
    "def div(a, b):\n",
    "    if b == 0:\n",
    "        return \"ND\"\n",
    "    return a / b\n",
    "\n",
    "a=float(input(\"Number_1: \"))\n",
    "b=float(input(\"Number_2: \"))\n",
    "print(\"Addition:\", add(a, b))\n",
    "print(\"Subtraction:\", sub(a, b))\n",
    "print(\"Multiplication:\", mul(a, b))\n",
    "print(\"Division:\", div(a, b))"
   ]
  },
  {
   "cell_type": "code",
   "execution_count": 10,
   "id": "50c61529",
   "metadata": {},
   "outputs": [
    {
     "name": "stdout",
     "output_type": "stream",
     "text": [
      "Enter the number:0\n",
      "Zero\n"
     ]
    }
   ],
   "source": [
    "#Create a program that uses conditional statement to determine if a number is positive, negative or zero.\n",
    "a=int(input(\"Enter the number:\"))\n",
    "if(a>0):\n",
    "    print(\"positive\")\n",
    "elif(a<0):\n",
    "    print(\"Negative\")\n",
    "else:\n",
    "    print(\"Zero\")"
   ]
  },
  {
   "cell_type": "code",
   "execution_count": 11,
   "id": "e9ee6fae",
   "metadata": {},
   "outputs": [
    {
     "name": "stdout",
     "output_type": "stream",
     "text": [
      "Enter the string:qwe\n",
      "ewq\n"
     ]
    }
   ],
   "source": [
    "#Write a script that accepts user input and displays it in reverse order.\n",
    "def reverse(x):\n",
    "    return x[::-1]\n",
    "\n",
    "a = input(\"Enter the string:\")\n",
    "print(reverse(a))"
   ]
  },
  {
   "cell_type": "code",
   "execution_count": null,
   "id": "cb5c97cb",
   "metadata": {},
   "outputs": [],
   "source": []
  }
 ],
 "metadata": {
  "kernelspec": {
   "display_name": "Python 3 (ipykernel)",
   "language": "python",
   "name": "python3"
  },
  "language_info": {
   "codemirror_mode": {
    "name": "ipython",
    "version": 3
   },
   "file_extension": ".py",
   "mimetype": "text/x-python",
   "name": "python",
   "nbconvert_exporter": "python",
   "pygments_lexer": "ipython3",
   "version": "3.11.7"
  }
 },
 "nbformat": 4,
 "nbformat_minor": 5
}
